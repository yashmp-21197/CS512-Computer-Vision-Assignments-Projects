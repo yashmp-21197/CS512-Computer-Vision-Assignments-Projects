{
 "cells": [
  {
   "cell_type": "markdown",
   "metadata": {},
   "source": [
    "# Name : Yash Manharbhai Patel\n",
    "# Student ID : A20451170\n",
    "# Course : CS512 - Computer Vision\n",
    "# Semester : Fall20\n",
    "# Homework-0"
   ]
  },
  {
   "cell_type": "code",
   "execution_count": 61,
   "metadata": {},
   "outputs": [],
   "source": [
    "import numpy as np"
   ]
  },
  {
   "cell_type": "markdown",
   "metadata": {},
   "source": [
    "# Question A"
   ]
  },
  {
   "cell_type": "code",
   "execution_count": 62,
   "metadata": {},
   "outputs": [],
   "source": [
    "A_a = np.array([[1],[2],[3]])\n",
    "B_a = np.array([[4],[5],[6]])\n",
    "C_a = np.array([[-1],[1],[3]])"
   ]
  },
  {
   "cell_type": "markdown",
   "metadata": {},
   "source": [
    "# 1. 2A-B"
   ]
  },
  {
   "cell_type": "code",
   "execution_count": 63,
   "metadata": {},
   "outputs": [
    {
     "name": "stdout",
     "output_type": "stream",
     "text": [
      "[[-2]\n",
      " [-1]\n",
      " [ 0]]\n"
     ]
    }
   ],
   "source": [
    "ans_a1 = np.multiply(2,A_a)\n",
    "ans_a1 = np.subtract(ans_a1,B_a)\n",
    "print(ans_a1)"
   ]
  },
  {
   "cell_type": "markdown",
   "metadata": {},
   "source": [
    "# 2. ||A|| and the angle of A relative to the positive X axis"
   ]
  },
  {
   "cell_type": "code",
   "execution_count": 64,
   "metadata": {},
   "outputs": [
    {
     "name": "stdout",
     "output_type": "stream",
     "text": [
      "3.7416573867739413\n",
      "74.498640433063\n"
     ]
    }
   ],
   "source": [
    "ans_a21 = np.linalg.norm(A_a, ord=2)\n",
    "print(ans_a21)\n",
    "\n",
    "x_axis = np.array([[1],[0],[0]])\n",
    "cos_theta_x = np.dot(x_axis.reshape((3)), A_a.reshape((3)))\n",
    "cos_theta_x = cos_theta_x / (ans_a21 * np.linalg.norm(x_axis, ord=2))\n",
    "theta_x = np.arccos(cos_theta_x)\n",
    "ans_a22 = 180 * theta_x / np.pi\n",
    "print(ans_a22)"
   ]
  },
  {
   "cell_type": "markdown",
   "metadata": {},
   "source": [
    "# 3. A, a unit vector in the direction of A"
   ]
  },
  {
   "cell_type": "code",
   "execution_count": 65,
   "metadata": {},
   "outputs": [
    {
     "name": "stdout",
     "output_type": "stream",
     "text": [
      "[[0.26726124]\n",
      " [0.53452248]\n",
      " [0.80178373]]\n"
     ]
    }
   ],
   "source": [
    "ans_a3 = np.divide(A_a, ans_a21)\n",
    "print(ans_a3)"
   ]
  },
  {
   "cell_type": "markdown",
   "metadata": {},
   "source": [
    "# 4. the direction cosines of A"
   ]
  },
  {
   "cell_type": "code",
   "execution_count": 66,
   "metadata": {},
   "outputs": [
    {
     "name": "stdout",
     "output_type": "stream",
     "text": [
      "0.2672612419124244\n",
      "0.5345224838248488\n",
      "0.8017837257372732\n"
     ]
    }
   ],
   "source": [
    "x_axis = np.array([[1],[0],[0]])\n",
    "y_axis = np.array([[0],[1],[0]])\n",
    "z_axis = np.array([[0],[0],[1]])\n",
    "\n",
    "cos_theta_x = np.dot(x_axis.reshape((3)), A_a.reshape((3))) / (ans_a21 * np.linalg.norm(x_axis, ord=2))\n",
    "cos_theta_y = np.dot(y_axis.reshape((3)), A_a.reshape((3))) / (ans_a21 * np.linalg.norm(y_axis, ord=2))\n",
    "cos_theta_z = np.dot(z_axis.reshape((3)), A_a.reshape((3))) / (ans_a21 * np.linalg.norm(z_axis, ord=2))\n",
    "\n",
    "print(cos_theta_x)\n",
    "print(cos_theta_y)\n",
    "print(cos_theta_z)"
   ]
  },
  {
   "cell_type": "markdown",
   "metadata": {},
   "source": [
    "# 5. A dot B and B dot A"
   ]
  },
  {
   "cell_type": "code",
   "execution_count": 67,
   "metadata": {},
   "outputs": [
    {
     "name": "stdout",
     "output_type": "stream",
     "text": [
      "32\n",
      "32\n"
     ]
    }
   ],
   "source": [
    "ans_a51 = np.dot(A_a.reshape((3)), B_a.reshape((3)))\n",
    "print(ans_a51)\n",
    "ans_a52 = np.dot(B_a.reshape((3)), A_a.reshape((3)))\n",
    "print(ans_a52)"
   ]
  },
  {
   "cell_type": "markdown",
   "metadata": {},
   "source": [
    "# 6. the angle between A and B"
   ]
  },
  {
   "cell_type": "code",
   "execution_count": 68,
   "metadata": {},
   "outputs": [
    {
     "name": "stdout",
     "output_type": "stream",
     "text": [
      "12.933154491899078\n"
     ]
    }
   ],
   "source": [
    "cos_theta_ab = ans_a51 / (ans_a21 * np.linalg.norm(B_a, ord=2))\n",
    "theta_ab = np.arccos(cos_theta_ab)\n",
    "ans_a6 = 180 * theta_ab / np.pi\n",
    "print(ans_a6)"
   ]
  },
  {
   "cell_type": "markdown",
   "metadata": {},
   "source": [
    "# 7. a vector which is perpendicular to A"
   ]
  },
  {
   "cell_type": "markdown",
   "metadata": {},
   "source": [
    "We can find a vector which is perpendicular by taking cross product of A and any arbitrary vector.\n",
    "\n",
    "Because cross product of any two vector gives a vector which is perpendicular to a plan creat by two vectors.\n",
    "\n",
    "Suppose any arbitrary vector is [1, 0, 0].\n",
    "\n",
    "dot product of any two perpendicular vectors is zero."
   ]
  },
  {
   "cell_type": "code",
   "execution_count": 69,
   "metadata": {},
   "outputs": [
    {
     "name": "stdout",
     "output_type": "stream",
     "text": [
      "[[ 0]\n",
      " [ 3]\n",
      " [-2]]\n",
      "0\n"
     ]
    }
   ],
   "source": [
    "arbi_vector = np.array([[1], [0], [0]])\n",
    "ans_a7 = np.cross(A_a.T, arbi_vector.T).T\n",
    "print(ans_a7)\n",
    "print(np.dot(ans_a7.reshape(3), A_a.reshape(3)))"
   ]
  },
  {
   "cell_type": "markdown",
   "metadata": {},
   "source": [
    "# 8. A x B and B x A"
   ]
  },
  {
   "cell_type": "code",
   "execution_count": 70,
   "metadata": {},
   "outputs": [
    {
     "name": "stdout",
     "output_type": "stream",
     "text": [
      "[[-3]\n",
      " [ 6]\n",
      " [-3]]\n",
      "[[ 3]\n",
      " [-6]\n",
      " [ 3]]\n"
     ]
    }
   ],
   "source": [
    "ans_a81 = np.cross(A_a.T, B_a.T).T\n",
    "print(ans_a81)\n",
    "ans_a82 = np.cross(B_a.T, A_a.T).T\n",
    "print(ans_a82)"
   ]
  },
  {
   "cell_type": "markdown",
   "metadata": {},
   "source": [
    "# 9. a vector which is perpendicular to both A and B"
   ]
  },
  {
   "cell_type": "code",
   "execution_count": 71,
   "metadata": {},
   "outputs": [
    {
     "name": "stdout",
     "output_type": "stream",
     "text": [
      "[[-3]\n",
      " [ 6]\n",
      " [-3]]\n"
     ]
    }
   ],
   "source": [
    "ans_a9 = np.cross(A_a.T, B_a.T).T\n",
    "print(ans_a9)"
   ]
  },
  {
   "cell_type": "markdown",
   "metadata": {},
   "source": [
    "# 10. the linear dependency between A, B, C"
   ]
  },
  {
   "cell_type": "code",
   "execution_count": 72,
   "metadata": {},
   "outputs": [
    {
     "name": "stdout",
     "output_type": "stream",
     "text": [
      "[[0.33333333]\n",
      " [0.33333333]]\n"
     ]
    },
    {
     "name": "stderr",
     "output_type": "stream",
     "text": [
      "C:\\Users\\yashm\\Anaconda3\\lib\\site-packages\\ipykernel_launcher.py:2: FutureWarning: `rcond` parameter will change to the default of machine precision times ``max(M, N)`` where M and N are the input matrix dimensions.\n",
      "To use the future default and silence this warning we advise to pass `rcond=None`, to keep using the old, explicitly pass `rcond=-1`.\n",
      "  \n"
     ]
    }
   ],
   "source": [
    "stack = np.column_stack([B_a, C_a])\n",
    "coefficient = np.linalg.lstsq(stack, A_a)\n",
    "print(coefficient[0])"
   ]
  },
  {
   "cell_type": "markdown",
   "metadata": {},
   "source": [
    "A = 0.33333333B + 0.33333333C\n",
    "\n",
    "3A = B + C"
   ]
  },
  {
   "cell_type": "markdown",
   "metadata": {},
   "source": [
    "# 11. A.T B and A B.T"
   ]
  },
  {
   "cell_type": "code",
   "execution_count": 73,
   "metadata": {},
   "outputs": [
    {
     "name": "stdout",
     "output_type": "stream",
     "text": [
      "[[32]]\n",
      "[[ 4  5  6]\n",
      " [ 8 10 12]\n",
      " [12 15 18]]\n"
     ]
    }
   ],
   "source": [
    "ans_a111 = np.matmul(A_a.T, B_a)\n",
    "print(ans_a111)\n",
    "ans_a112 = np.matmul(A_a, B_a.T)\n",
    "print(ans_a112)"
   ]
  },
  {
   "cell_type": "markdown",
   "metadata": {},
   "source": [
    "# Question B"
   ]
  },
  {
   "cell_type": "code",
   "execution_count": 74,
   "metadata": {},
   "outputs": [],
   "source": [
    "A_b = np.array([[1,2,3],[4,-2,3],[0,5,-1]])\n",
    "B_b = np.array([[1,2,1],[2,1,-4],[3,-2,1]])\n",
    "C_b = np.array([[1,2,3],[4,5,6],[-1,1,3]])"
   ]
  },
  {
   "cell_type": "markdown",
   "metadata": {},
   "source": [
    "# 1. 2A-B"
   ]
  },
  {
   "cell_type": "code",
   "execution_count": 75,
   "metadata": {},
   "outputs": [
    {
     "name": "stdout",
     "output_type": "stream",
     "text": [
      "[[ 1  2  5]\n",
      " [ 6 -5 10]\n",
      " [-3 12 -3]]\n"
     ]
    }
   ],
   "source": [
    "ans_b1 = np.multiply(2,A_b)\n",
    "ans_b1 = np.subtract(ans_b1,B_b)\n",
    "print(ans_b1)"
   ]
  },
  {
   "cell_type": "markdown",
   "metadata": {},
   "source": [
    "# 2. AB and BA"
   ]
  },
  {
   "cell_type": "code",
   "execution_count": 76,
   "metadata": {},
   "outputs": [
    {
     "name": "stdout",
     "output_type": "stream",
     "text": [
      "[[ 14  -2  -4]\n",
      " [  9   0  15]\n",
      " [  7   7 -21]]\n",
      "[[  9   3   8]\n",
      " [  6 -18  13]\n",
      " [ -5  15   2]]\n"
     ]
    }
   ],
   "source": [
    "ans_b21 = np.matmul(A_b, B_b)\n",
    "print(ans_b21)\n",
    "ans_b22 = np.matmul(B_b, A_b)\n",
    "print(ans_b22)"
   ]
  },
  {
   "cell_type": "markdown",
   "metadata": {},
   "source": [
    "# 3. (AB).T and B.T A.T"
   ]
  },
  {
   "cell_type": "code",
   "execution_count": 77,
   "metadata": {},
   "outputs": [
    {
     "name": "stdout",
     "output_type": "stream",
     "text": [
      "[[ 14   9   7]\n",
      " [ -2   0   7]\n",
      " [ -4  15 -21]]\n",
      "[[ 14   9   7]\n",
      " [ -2   0   7]\n",
      " [ -4  15 -21]]\n"
     ]
    }
   ],
   "source": [
    "ans_b31 = ans_b21.T\n",
    "print(ans_b31)\n",
    "ans_b32 = np.matmul(B_b.T, A_b.T)\n",
    "print(ans_b32)"
   ]
  },
  {
   "cell_type": "markdown",
   "metadata": {},
   "source": [
    "# 4. |A| and |C|"
   ]
  },
  {
   "cell_type": "code",
   "execution_count": 78,
   "metadata": {},
   "outputs": [
    {
     "name": "stdout",
     "output_type": "stream",
     "text": [
      "54.999999999999964\n",
      "0.0\n"
     ]
    }
   ],
   "source": [
    "ans_b41 = np.linalg.det(A_b)\n",
    "print(ans_b41)\n",
    "ans_b42 = np.linalg.det(C_b)\n",
    "print(ans_b42)"
   ]
  },
  {
   "cell_type": "markdown",
   "metadata": {},
   "source": [
    "# 5. the matrix (A, B, or C) in which the row vectors form an orthogonal set"
   ]
  },
  {
   "cell_type": "code",
   "execution_count": 79,
   "metadata": {},
   "outputs": [
    {
     "name": "stdout",
     "output_type": "stream",
     "text": [
      "9\n",
      "-13\n",
      "7\n",
      "0\n",
      "0\n",
      "0\n",
      "32\n",
      "19\n",
      "10\n"
     ]
    }
   ],
   "source": [
    "dot_a1a2 = np.dot(A_b[0, :], A_b[1, :])\n",
    "print(dot_a1a2)\n",
    "dot_a2a3 = np.dot(A_b[1, :], A_b[2, :])\n",
    "print(dot_a2a3)\n",
    "dot_a1a3 = np.dot(A_b[0, :], A_b[2, :])\n",
    "print(dot_a1a3)\n",
    "\n",
    "dot_b1b2 = np.dot(B_b[0, :], B_b[1, :])\n",
    "print(dot_b1b2)\n",
    "dot_b2b3 = np.dot(B_b[1, :], B_b[2, :])\n",
    "print(dot_b2b3)\n",
    "dot_b1b3 = np.dot(B_b[0, :], B_b[2, :])\n",
    "print(dot_b1b3)\n",
    "\n",
    "dot_c1c2 = np.dot(C_b[0, :], C_b[1, :])\n",
    "print(dot_c1c2)\n",
    "dot_c2c3 = np.dot(C_b[1, :], C_b[2, :])\n",
    "print(dot_c2c3)\n",
    "dot_c1c3 = np.dot(C_b[0, :], C_b[2, :])\n",
    "print(dot_c1c3)"
   ]
  },
  {
   "cell_type": "markdown",
   "metadata": {},
   "source": [
    "# 6. A inverse and B inverse"
   ]
  },
  {
   "cell_type": "code",
   "execution_count": 80,
   "metadata": {},
   "outputs": [
    {
     "name": "stdout",
     "output_type": "stream",
     "text": [
      "[[-0.23636364  0.30909091  0.21818182]\n",
      " [ 0.07272727 -0.01818182  0.16363636]\n",
      " [ 0.36363636 -0.09090909 -0.18181818]]\n",
      "[[ 0.16666667  0.0952381   0.21428571]\n",
      " [ 0.33333333  0.04761905 -0.14285714]\n",
      " [ 0.16666667 -0.19047619  0.07142857]]\n"
     ]
    }
   ],
   "source": [
    "ans_b61 = np.linalg.inv(A_b)\n",
    "print(ans_b61)\n",
    "ans_b62 = np.linalg.inv(B_b)\n",
    "print(ans_b62)"
   ]
  },
  {
   "cell_type": "markdown",
   "metadata": {},
   "source": [
    "# Question C"
   ]
  },
  {
   "cell_type": "code",
   "execution_count": 81,
   "metadata": {},
   "outputs": [],
   "source": [
    "A_c = np.array([[1, 2], [3, 2]])\n",
    "B_c = np.array([[2, -2], [-2, 5]])"
   ]
  },
  {
   "cell_type": "markdown",
   "metadata": {},
   "source": [
    "# 1. the eigenvalues and corrosponding eigenvectors of A"
   ]
  },
  {
   "cell_type": "code",
   "execution_count": 82,
   "metadata": {},
   "outputs": [
    {
     "name": "stdout",
     "output_type": "stream",
     "text": [
      "[-1.  4.]\n",
      "[[-0.70710678 -0.5547002 ]\n",
      " [ 0.70710678 -0.83205029]]\n"
     ]
    }
   ],
   "source": [
    "eigenvalues, eigenvectors = np.linalg.eig(A_c)\n",
    "ans_c11 = eigenvalues\n",
    "ans_c12 = eigenvectors\n",
    "print(ans_c11)\n",
    "print(ans_c12)"
   ]
  },
  {
   "cell_type": "markdown",
   "metadata": {},
   "source": [
    "# 2. the matrix VinverseAV where V is composed of the the eigenvectors of A"
   ]
  },
  {
   "cell_type": "code",
   "execution_count": 83,
   "metadata": {},
   "outputs": [
    {
     "name": "stdout",
     "output_type": "stream",
     "text": [
      "[[-1.00000000e+00 -7.21644966e-16]\n",
      " [ 0.00000000e+00  4.00000000e+00]]\n"
     ]
    }
   ],
   "source": [
    "V = eigenvectors\n",
    "V_inv = np.linalg.inv(V)\n",
    "ans_c2 = np.matmul(np.matmul(V_inv, A_c), V)\n",
    "print(ans_c2)"
   ]
  },
  {
   "cell_type": "markdown",
   "metadata": {},
   "source": [
    "# 3. the dot product between the eigenvectors of A"
   ]
  },
  {
   "cell_type": "code",
   "execution_count": 84,
   "metadata": {},
   "outputs": [
    {
     "name": "stdout",
     "output_type": "stream",
     "text": [
      "-0.19611613513818388\n"
     ]
    }
   ],
   "source": [
    "ans_c3 = np.dot(eigenvectors[:, 0], eigenvectors[:, 1])\n",
    "print(ans_c3)"
   ]
  },
  {
   "cell_type": "markdown",
   "metadata": {},
   "source": [
    "# 4. the dot product between the eigenvectors of B"
   ]
  },
  {
   "cell_type": "code",
   "execution_count": 85,
   "metadata": {},
   "outputs": [
    {
     "name": "stdout",
     "output_type": "stream",
     "text": [
      "[1. 6.]\n",
      "[[-0.89442719  0.4472136 ]\n",
      " [-0.4472136  -0.89442719]]\n",
      "0.0\n"
     ]
    }
   ],
   "source": [
    "eigenvalues, eigenvectors = np.linalg.eig(B_c)\n",
    "print(eigenvalues)\n",
    "print(eigenvectors)\n",
    "ans_c4 = np.dot(eigenvectors[:, 0], eigenvectors[:, 1])\n",
    "print(ans_c4)"
   ]
  },
  {
   "cell_type": "markdown",
   "metadata": {},
   "source": [
    "# 5. the property of the eigenvectors of B"
   ]
  },
  {
   "cell_type": "markdown",
   "metadata": {},
   "source": [
    "Here, B is a symmetric matrix.\n",
    "\n",
    "B = B.T\n",
    "\n",
    "=> First property, all eigenvalues of B are real.\n",
    "\n",
    "   {1, 6} belongs to Real Number Set\n",
    "   \n",
    "=> Second property, the eigenvectors of B are orthonormal i.e. the composed matrix of eigenvectors is an orthogonal matrix."
   ]
  },
  {
   "cell_type": "code",
   "execution_count": 86,
   "metadata": {},
   "outputs": [
    {
     "name": "stdout",
     "output_type": "stream",
     "text": [
      "[[-0.89442719  0.4472136 ]\n",
      " [-0.4472136  -0.89442719]]\n",
      "0.0\n"
     ]
    }
   ],
   "source": [
    "eigenvectors[:, 0] = eigenvectors[:, 0] / np.linalg.norm(eigenvectors[:, 0], ord=2)\n",
    "eigenvectors[:, 1] = eigenvectors[:, 1] / np.linalg.norm(eigenvectors[:, 1], ord=2)\n",
    "print(eigenvectors)\n",
    "ans_c521 = np.dot(eigenvectors[:, 0], eigenvectors[:, 1])\n",
    "print(ans521)"
   ]
  },
  {
   "cell_type": "markdown",
   "metadata": {},
   "source": [
    "this eigenvectors are orthonormal."
   ]
  },
  {
   "cell_type": "code",
   "execution_count": 87,
   "metadata": {},
   "outputs": [
    {
     "name": "stdout",
     "output_type": "stream",
     "text": [
      "1.0\n",
      "1.0\n"
     ]
    }
   ],
   "source": [
    "ans522 = np.linalg.norm(eigenvectors[:, 0], ord=2)\n",
    "ans523 = np.linalg.norm(eigenvectors[:, 0], ord=2)\n",
    "print(ans522)\n",
    "print(ans523)"
   ]
  },
  {
   "cell_type": "markdown",
   "metadata": {},
   "source": [
    "this is orthogonal\n",
    "\n",
    "eigenvectors eigenvectors.T = eigenvectors.T eigenvectors = I\n",
    "\n",
    "eigenvectors = Inv(eigenvectors)"
   ]
  },
  {
   "cell_type": "code",
   "execution_count": 88,
   "metadata": {},
   "outputs": [
    {
     "name": "stdout",
     "output_type": "stream",
     "text": [
      "[[1. 0.]\n",
      " [0. 1.]]\n",
      "[[1. 0.]\n",
      " [0. 1.]]\n"
     ]
    }
   ],
   "source": [
    "ans524 = np.matmul(eigenvectors.T, eigenvectors)\n",
    "ans525 = np.matmul(eigenvectors, eigenvectors.T)\n",
    "print(ans524)\n",
    "print(ans525)"
   ]
  },
  {
   "cell_type": "code",
   "execution_count": 89,
   "metadata": {},
   "outputs": [
    {
     "name": "stdout",
     "output_type": "stream",
     "text": [
      "[[-0.89442719 -0.4472136 ]\n",
      " [ 0.4472136  -0.89442719]]\n",
      "[[-0.89442719 -0.4472136 ]\n",
      " [ 0.4472136  -0.89442719]]\n"
     ]
    }
   ],
   "source": [
    "ans526 = np.linalg.inv(eigenvectors)\n",
    "print(eigenvectors.T)\n",
    "print(ans526)"
   ]
  },
  {
   "cell_type": "code",
   "execution_count": null,
   "metadata": {},
   "outputs": [],
   "source": []
  }
 ],
 "metadata": {
  "kernelspec": {
   "display_name": "Python 3",
   "language": "python",
   "name": "python3"
  },
  "language_info": {
   "codemirror_mode": {
    "name": "ipython",
    "version": 3
   },
   "file_extension": ".py",
   "mimetype": "text/x-python",
   "name": "python",
   "nbconvert_exporter": "python",
   "pygments_lexer": "ipython3",
   "version": "3.7.3"
  }
 },
 "nbformat": 4,
 "nbformat_minor": 2
}
